{
 "cells": [
  {
   "cell_type": "code",
   "execution_count": null,
   "id": "5a4f3d5f",
   "metadata": {},
   "outputs": [],
   "source": [
    "print(\"Welcome to the tip calculator!\")"
   ]
  },
  {
   "cell_type": "code",
   "execution_count": null,
   "id": "44893032",
   "metadata": {},
   "outputs": [],
   "source": [
    "input(\"What was the total bill? $\") #이제 여기에서 금액을 입력받으면 되지만, 실제로는 저장되지 않는다. \n",
    "# 왜냐하면, 변수에 저장한 것이 아니기에, 입력값을 받은 데이터는 사라지고 맙니다. 그래서 이를 방지하기 위해, 이 변수를 bill이라고 하고, \n",
    "# 입력 받는 값에 할당을 합니다. \n",
    "bill = input(\"What was the total bill? $\")\n",
    "\n",
    "bill = float(input(\"hat was the total bill? $\"))\n",
    "tip = int(input(\"How much tip would you like to give? 10, 12, or 15? \"))\n",
    "# 이 역시도, tip 이라는 변수에 저장해놓지 않으면, input으로 입력받은 데이터가 날라가니까\n",
    "# 변수에 담아놓아야 한다\n",
    "\n",
    "people = int(input(\"How many people to split the bill? \"))\n",
    "\n",
    "bill_with_tip = tip / 100 * bill + bill\n",
    "print(bill_with_tip)\n",
    "                   \n",
    "                          "
   ]
  }
 ],
 "metadata": {
  "kernelspec": {
   "display_name": "Python 3",
   "language": "python",
   "name": "python3"
  },
  "language_info": {
   "codemirror_mode": {
    "name": "ipython",
    "version": 3
   },
   "file_extension": ".py",
   "mimetype": "text/x-python",
   "name": "python",
   "nbconvert_exporter": "python",
   "pygments_lexer": "ipython3",
   "version": "3.8.8"
  }
 },
 "nbformat": 4,
 "nbformat_minor": 5
}
